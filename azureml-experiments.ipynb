{
 "metadata": {
  "name": "azureml-experiments"
 }, 
 "nbformat": 2, 
 "worksheets": [
  {
   "cells": [
    {
     "cell_type": "markdown", 
     "source": [
      "# "
     ]
    }, 
    {
     "cell_type": "markdown", 
     "source": [
      "# Let's see what results are available"
     ]
    }, 
    {
     "cell_type": "code", 
     "collapsed": false, 
     "input": [
      "from azure.storage import BlobService", 
      "import re", 
      "", 
      "with open(os.getenv(\"HOME\") + '/nb/azure.conf') as f :", 
      "    acc_name, acc_key, container_name = f.read().split()", 
      "    ", 
      "blob_service = BlobService(account_name=acc_name, account_key=acc_key)", 
      "blobs = blob_service.list_blobs(container_name)", 
      "for blob in blobs:", 
      "    if  re.match(r\"\"\".*resul*\"\"\", blob.name) :", 
      "        print blob.name", 
      "        print blob.url"
     ], 
     "language": "python", 
     "outputs": [
      {
       "output_type": "stream", 
       "stream": "stdout", 
       "text": [
        "cstr-results.csv", 
        "", 
        "data/classic3-results.csv", 
        ""
       ]
      }
     ], 
     "prompt_number": 2
    }, 
    {
     "cell_type": "markdown", 
     "source": [
      "# Copy the \"results\" blob to a local file."
     ]
    }, 
    {
     "cell_type": "code", 
     "collapsed": false, 
     "input": [
      "results_blob_path=\"data/classic3-results.csv\"  # cstr-results.csv", 
      "results_filename='/home/frole/nb/azureml_experiments/' + results_blob_path", 
      "blob_service.get_blob_to_path('grailmatrix', results_blob_path, results_filename)"
     ], 
     "language": "python", 
     "outputs": [], 
     "prompt_number": "*"
    }, 
    {
     "cell_type": "markdown", 
     "source": [
      "# Read it into a Pandas dataframe"
     ]
    }, 
    {
     "cell_type": "code", 
     "collapsed": false, 
     "input": [
      "import pandas as pan", 
      "df = pan.read_csv(results_filename, sep=\",\")", 
      "df "
     ], 
     "language": "python", 
     "outputs": [], 
     "prompt_number": "*"
    }, 
    {
     "cell_type": "markdown", 
     "source": [
      "# Get the original matrix from Azure"
     ]
    }, 
    {
     "cell_type": "code", 
     "collapsed": false, 
     "input": [
      "matrix_blob_path='data/classic3-noheaders.nh.csv'", 
      "matrix_filename='/home/frole/nb/azureml_experiments/' + matrix_blob_path", 
      "blob_service.get_blob_to_path('grailmatrix', matrix_blob_path, matrix_filename)"
     ], 
     "language": "python", 
     "outputs": [], 
     "prompt_number": 49
    }, 
    {
     "cell_type": "markdown", 
     "source": [
      "# Read it into a Numpy array"
     ]
    }, 
    {
     "cell_type": "code", 
     "collapsed": true, 
     "input": [], 
     "language": "python", 
     "outputs": []
    }, 
    {
     "cell_type": "code", 
     "collapsed": false, 
     "input": [
      "import numpy as np", 
      "a= np.genfromtxt (matrix_filename, delimiter=\",\")", 
      "print a.shape"
     ], 
     "language": "python", 
     "outputs": [], 
     "prompt_number": "*"
    }, 
    {
     "cell_type": "markdown", 
     "source": [
      "# Get the column and row indices for the co-clusters"
     ]
    }, 
    {
     "cell_type": "code", 
     "collapsed": false, 
     "input": [
      "row_indices = df.ix[:3890, 3]", 
      "print len(row_indices)", 
      "", 
      "col_indices = df.ix[:, 0]", 
      "print len(col_indices)"
     ], 
     "language": "python", 
     "outputs": [
      {
       "output_type": "stream", 
       "stream": "stdout", 
       "text": [
        "3891", 
        "4303"
       ]
      }
     ], 
     "prompt_number": 95
    }, 
    {
     "cell_type": "markdown", 
     "source": [
      "## Create a reorganized matrix"
     ]
    }, 
    {
     "cell_type": "code", 
     "collapsed": false, 
     "input": [
      "#print np.argsort(row_indices)", 
      "import scipy.sparse as sp", 
      "m_orig=sp.lil_matrix(a).tocsc()", 
      "print m_orig.shape", 
      "#m_reorganized= m[  [ [x] for x in np.argsort(row_indices)] , np.argsort(col_indices)  ]", 
      "m_reorganized= m[  [ [x] for x in np.argsort(row_indices)] , np.arange(4303)]", 
      "print m_reorganized.shape", 
      "#ixgrid = np.ix_(np.argsort(row_indices) , np.argsort(col_indices))", 
      "#a_reorganized= a[ixgrid]"
     ], 
     "language": "python", 
     "outputs": [
      {
       "output_type": "stream", 
       "stream": "stdout", 
       "text": [
        "(3891, 4303)", 
        "(3891, 4303)"
       ]
      }
     ], 
     "prompt_number": 107
    }, 
    {
     "cell_type": "markdown", 
     "source": [
      "## Plot the two matrices (original and reorganized)"
     ]
    }, 
    {
     "cell_type": "code", 
     "collapsed": false, 
     "input": [
      "from matplotlib import pyplot as plt", 
      "", 
      "a_orig = m_orig[:50,:50].todense()", 
      "", 
      "a_reorganized=m_reorganized[:50,:50].todense()", 
      "", 
      "plt.matshow(a_orig, cmap=plt.cm.Spectral_r)", 
      "plt.title(\"Original Classic3 matrix\")", 
      "", 
      "plt.matshow(a_reorganized, cmap=plt.cm.Spectral_r)", 
      "plt.title(\"Reorganized (block-diagonal) Classic3 matrix\")", 
      "", 
      "plt.show()"
     ], 
     "language": "python", 
     "outputs": [], 
     "prompt_number": "*"
    }, 
    {
     "cell_type": "markdown", 
     "source": [
      "# Get the indicator vector for the rows"
     ]
    }, 
    {
     "cell_type": "code", 
     "collapsed": false, 
     "input": [
      ""
     ], 
     "language": "python", 
     "outputs": []
    }, 
    {
     "cell_type": "code", 
     "collapsed": true, 
     "input": [], 
     "language": "python", 
     "outputs": []
    }
   ]
  }
 ]
}